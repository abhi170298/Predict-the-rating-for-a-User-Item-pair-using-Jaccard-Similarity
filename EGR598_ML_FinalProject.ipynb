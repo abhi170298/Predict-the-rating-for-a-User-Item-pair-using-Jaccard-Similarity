{
  "cells": [
    {
      "cell_type": "code",
      "execution_count": 1,
      "id": "74afbc56",
      "metadata": {
        "id": "74afbc56"
      },
      "outputs": [],
      "source": [
        "import urllib\n",
        "import random\n",
        "import gzip\n",
        "import math\n",
        "import numpy\n",
        "import string\n",
        "import random\n",
        "import pandas as pd\n",
        "import seaborn as sns\n",
        "import matplotlib.pyplot as plt\n",
        "from collections import defaultdict\n",
        "import scipy.optimize\n",
        "from sklearn import svm\n",
        "from sklearn import linear_model\n",
        "from sklearn.metrics import mean_absolute_percentage_error\n",
        "from sklearn.metrics import confusion_matrix\n",
        "from sklearn.metrics import mean_squared_error"
      ]
    },
    {
      "cell_type": "code",
      "source": [
        "from google.colab import drive\n",
        "drive.mount('/content/drive')"
      ],
      "metadata": {
        "id": "s2A49nwvVQI4"
      },
      "id": "s2A49nwvVQI4",
      "execution_count": null,
      "outputs": []
    },
    {
      "cell_type": "markdown",
      "source": [
        "# PreProcessing Methods"
      ],
      "metadata": {
        "id": "Mm1LcH1bARhS"
      },
      "id": "Mm1LcH1bARhS"
    },
    {
      "cell_type": "code",
      "source": [
        "#PreProcessing methods\n",
        "userDict = {}\n",
        "userIndex=0\n",
        "bookDict = {}\n",
        "bookIndex=0\n",
        "def getUserId(key):\n",
        "  if key not in userDict.keys():\n",
        "    global userIndex\n",
        "    userIndex=userIndex+1\n",
        "    userDict[key] = userIndex\n",
        "    return userIndex\n",
        "  return userDict[key]\n",
        "def getBookId(key):\n",
        "  if key not in bookDict.keys():\n",
        "    global bookIndex\n",
        "    bookIndex=bookIndex+1\n",
        "    bookDict[key] = bookIndex\n",
        "    return bookIndex\n",
        "  return bookDict[key]\n",
        "def preProcess(val):\n",
        "  val[\"user_id\"] = getUserId(val[\"user_id\"])\n",
        "  val[\"book_id\"] = getBookId(val[\"book_id\"])\n",
        "  del val[\"review_id\"]\n",
        "  del val[\"date_added\"]\n",
        "  del val[\"date_updated\"]\n",
        "  del val[\"read_at\"]\n",
        "  del val[\"started_at\"]\n",
        "  del val[\"n_votes\"]\n",
        "  del val[\"n_comments\"]\n",
        "  return val"
      ],
      "metadata": {
        "id": "qQUmDF6AiaT0"
      },
      "execution_count": 3,
      "outputs": [],
      "id": "qQUmDF6AiaT0"
    },
    {
      "cell_type": "code",
      "execution_count": 4,
      "id": "7d0a7a6d",
      "metadata": {
        "id": "7d0a7a6d"
      },
      "outputs": [],
      "source": [
        "f = gzip.open(\"/content/drive/MyDrive/Final Project/young_adult_10000.json.gz\")\n",
        "dataset = []\n",
        "for l in f:\n",
        "    dataset.append(preProcess(eval(l)))\n",
        "random.shuffle(dataset)\n",
        "dataTrain = dataset[:9000]\n",
        "dataTest = dataset[9000:]\n",
        "df = pd.DataFrame (dataset, columns = ['user_id', 'book_id',  'rating'])"
      ]
    },
    {
      "cell_type": "code",
      "source": [
        "df"
      ],
      "metadata": {
        "colab": {
          "base_uri": "https://localhost:8080/",
          "height": 424
        },
        "id": "OOJjj5QSsiQo",
        "outputId": "d8dc1458-7b52-4010-ed55-b4cbe44b0c0e"
      },
      "id": "OOJjj5QSsiQo",
      "execution_count": 5,
      "outputs": [
        {
          "output_type": "execute_result",
          "data": {
            "text/plain": [
              "      user_id  book_id  rating\n",
              "0         494     3222       3\n",
              "1         480     2174       5\n",
              "2         477      924       0\n",
              "3         243     2354       5\n",
              "4          66      949       5\n",
              "...       ...      ...     ...\n",
              "9995       34      344       5\n",
              "9996      698     2221       4\n",
              "9997      402      521       3\n",
              "9998      303     1415       3\n",
              "9999      558     4260       3\n",
              "\n",
              "[10000 rows x 3 columns]"
            ],
            "text/html": [
              "\n",
              "  <div id=\"df-0aa4091f-b09e-4f70-ade1-dd0309500143\">\n",
              "    <div class=\"colab-df-container\">\n",
              "      <div>\n",
              "<style scoped>\n",
              "    .dataframe tbody tr th:only-of-type {\n",
              "        vertical-align: middle;\n",
              "    }\n",
              "\n",
              "    .dataframe tbody tr th {\n",
              "        vertical-align: top;\n",
              "    }\n",
              "\n",
              "    .dataframe thead th {\n",
              "        text-align: right;\n",
              "    }\n",
              "</style>\n",
              "<table border=\"1\" class=\"dataframe\">\n",
              "  <thead>\n",
              "    <tr style=\"text-align: right;\">\n",
              "      <th></th>\n",
              "      <th>user_id</th>\n",
              "      <th>book_id</th>\n",
              "      <th>rating</th>\n",
              "    </tr>\n",
              "  </thead>\n",
              "  <tbody>\n",
              "    <tr>\n",
              "      <th>0</th>\n",
              "      <td>494</td>\n",
              "      <td>3222</td>\n",
              "      <td>3</td>\n",
              "    </tr>\n",
              "    <tr>\n",
              "      <th>1</th>\n",
              "      <td>480</td>\n",
              "      <td>2174</td>\n",
              "      <td>5</td>\n",
              "    </tr>\n",
              "    <tr>\n",
              "      <th>2</th>\n",
              "      <td>477</td>\n",
              "      <td>924</td>\n",
              "      <td>0</td>\n",
              "    </tr>\n",
              "    <tr>\n",
              "      <th>3</th>\n",
              "      <td>243</td>\n",
              "      <td>2354</td>\n",
              "      <td>5</td>\n",
              "    </tr>\n",
              "    <tr>\n",
              "      <th>4</th>\n",
              "      <td>66</td>\n",
              "      <td>949</td>\n",
              "      <td>5</td>\n",
              "    </tr>\n",
              "    <tr>\n",
              "      <th>...</th>\n",
              "      <td>...</td>\n",
              "      <td>...</td>\n",
              "      <td>...</td>\n",
              "    </tr>\n",
              "    <tr>\n",
              "      <th>9995</th>\n",
              "      <td>34</td>\n",
              "      <td>344</td>\n",
              "      <td>5</td>\n",
              "    </tr>\n",
              "    <tr>\n",
              "      <th>9996</th>\n",
              "      <td>698</td>\n",
              "      <td>2221</td>\n",
              "      <td>4</td>\n",
              "    </tr>\n",
              "    <tr>\n",
              "      <th>9997</th>\n",
              "      <td>402</td>\n",
              "      <td>521</td>\n",
              "      <td>3</td>\n",
              "    </tr>\n",
              "    <tr>\n",
              "      <th>9998</th>\n",
              "      <td>303</td>\n",
              "      <td>1415</td>\n",
              "      <td>3</td>\n",
              "    </tr>\n",
              "    <tr>\n",
              "      <th>9999</th>\n",
              "      <td>558</td>\n",
              "      <td>4260</td>\n",
              "      <td>3</td>\n",
              "    </tr>\n",
              "  </tbody>\n",
              "</table>\n",
              "<p>10000 rows × 3 columns</p>\n",
              "</div>\n",
              "      <button class=\"colab-df-convert\" onclick=\"convertToInteractive('df-0aa4091f-b09e-4f70-ade1-dd0309500143')\"\n",
              "              title=\"Convert this dataframe to an interactive table.\"\n",
              "              style=\"display:none;\">\n",
              "        \n",
              "  <svg xmlns=\"http://www.w3.org/2000/svg\" height=\"24px\"viewBox=\"0 0 24 24\"\n",
              "       width=\"24px\">\n",
              "    <path d=\"M0 0h24v24H0V0z\" fill=\"none\"/>\n",
              "    <path d=\"M18.56 5.44l.94 2.06.94-2.06 2.06-.94-2.06-.94-.94-2.06-.94 2.06-2.06.94zm-11 1L8.5 8.5l.94-2.06 2.06-.94-2.06-.94L8.5 2.5l-.94 2.06-2.06.94zm10 10l.94 2.06.94-2.06 2.06-.94-2.06-.94-.94-2.06-.94 2.06-2.06.94z\"/><path d=\"M17.41 7.96l-1.37-1.37c-.4-.4-.92-.59-1.43-.59-.52 0-1.04.2-1.43.59L10.3 9.45l-7.72 7.72c-.78.78-.78 2.05 0 2.83L4 21.41c.39.39.9.59 1.41.59.51 0 1.02-.2 1.41-.59l7.78-7.78 2.81-2.81c.8-.78.8-2.07 0-2.86zM5.41 20L4 18.59l7.72-7.72 1.47 1.35L5.41 20z\"/>\n",
              "  </svg>\n",
              "      </button>\n",
              "      \n",
              "  <style>\n",
              "    .colab-df-container {\n",
              "      display:flex;\n",
              "      flex-wrap:wrap;\n",
              "      gap: 12px;\n",
              "    }\n",
              "\n",
              "    .colab-df-convert {\n",
              "      background-color: #E8F0FE;\n",
              "      border: none;\n",
              "      border-radius: 50%;\n",
              "      cursor: pointer;\n",
              "      display: none;\n",
              "      fill: #1967D2;\n",
              "      height: 32px;\n",
              "      padding: 0 0 0 0;\n",
              "      width: 32px;\n",
              "    }\n",
              "\n",
              "    .colab-df-convert:hover {\n",
              "      background-color: #E2EBFA;\n",
              "      box-shadow: 0px 1px 2px rgba(60, 64, 67, 0.3), 0px 1px 3px 1px rgba(60, 64, 67, 0.15);\n",
              "      fill: #174EA6;\n",
              "    }\n",
              "\n",
              "    [theme=dark] .colab-df-convert {\n",
              "      background-color: #3B4455;\n",
              "      fill: #D2E3FC;\n",
              "    }\n",
              "\n",
              "    [theme=dark] .colab-df-convert:hover {\n",
              "      background-color: #434B5C;\n",
              "      box-shadow: 0px 1px 3px 1px rgba(0, 0, 0, 0.15);\n",
              "      filter: drop-shadow(0px 1px 2px rgba(0, 0, 0, 0.3));\n",
              "      fill: #FFFFFF;\n",
              "    }\n",
              "  </style>\n",
              "\n",
              "      <script>\n",
              "        const buttonEl =\n",
              "          document.querySelector('#df-0aa4091f-b09e-4f70-ade1-dd0309500143 button.colab-df-convert');\n",
              "        buttonEl.style.display =\n",
              "          google.colab.kernel.accessAllowed ? 'block' : 'none';\n",
              "\n",
              "        async function convertToInteractive(key) {\n",
              "          const element = document.querySelector('#df-0aa4091f-b09e-4f70-ade1-dd0309500143');\n",
              "          const dataTable =\n",
              "            await google.colab.kernel.invokeFunction('convertToInteractive',\n",
              "                                                     [key], {});\n",
              "          if (!dataTable) return;\n",
              "\n",
              "          const docLinkHtml = 'Like what you see? Visit the ' +\n",
              "            '<a target=\"_blank\" href=https://colab.research.google.com/notebooks/data_table.ipynb>data table notebook</a>'\n",
              "            + ' to learn more about interactive tables.';\n",
              "          element.innerHTML = '';\n",
              "          dataTable['output_type'] = 'display_data';\n",
              "          await google.colab.output.renderOutput(dataTable, element);\n",
              "          const docLink = document.createElement('div');\n",
              "          docLink.innerHTML = docLinkHtml;\n",
              "          element.appendChild(docLink);\n",
              "        }\n",
              "      </script>\n",
              "    </div>\n",
              "  </div>\n",
              "  "
            ]
          },
          "metadata": {},
          "execution_count": 5
        }
      ]
    },
    {
      "cell_type": "code",
      "source": [
        "df.describe()"
      ],
      "metadata": {
        "colab": {
          "base_uri": "https://localhost:8080/",
          "height": 300
        },
        "id": "mN1Sae9h7e5v",
        "outputId": "69bcebb0-c99f-4404-f0d3-cbc528360ee9"
      },
      "id": "mN1Sae9h7e5v",
      "execution_count": 6,
      "outputs": [
        {
          "output_type": "execute_result",
          "data": {
            "text/plain": [
              "            user_id       book_id        rating\n",
              "count  10000.000000  10000.000000  10000.000000\n",
              "mean     349.337300   1728.146700      3.755500\n",
              "std      204.133854   1443.718744      1.245662\n",
              "min        1.000000      1.000000      0.000000\n",
              "25%      162.000000    389.000000      3.000000\n",
              "50%      367.000000   1396.500000      4.000000\n",
              "75%      506.000000   2824.000000      5.000000\n",
              "max      715.000000   4980.000000      5.000000"
            ],
            "text/html": [
              "\n",
              "  <div id=\"df-c2947773-406e-4c55-96e9-3d437e6f69c9\">\n",
              "    <div class=\"colab-df-container\">\n",
              "      <div>\n",
              "<style scoped>\n",
              "    .dataframe tbody tr th:only-of-type {\n",
              "        vertical-align: middle;\n",
              "    }\n",
              "\n",
              "    .dataframe tbody tr th {\n",
              "        vertical-align: top;\n",
              "    }\n",
              "\n",
              "    .dataframe thead th {\n",
              "        text-align: right;\n",
              "    }\n",
              "</style>\n",
              "<table border=\"1\" class=\"dataframe\">\n",
              "  <thead>\n",
              "    <tr style=\"text-align: right;\">\n",
              "      <th></th>\n",
              "      <th>user_id</th>\n",
              "      <th>book_id</th>\n",
              "      <th>rating</th>\n",
              "    </tr>\n",
              "  </thead>\n",
              "  <tbody>\n",
              "    <tr>\n",
              "      <th>count</th>\n",
              "      <td>10000.000000</td>\n",
              "      <td>10000.000000</td>\n",
              "      <td>10000.000000</td>\n",
              "    </tr>\n",
              "    <tr>\n",
              "      <th>mean</th>\n",
              "      <td>349.337300</td>\n",
              "      <td>1728.146700</td>\n",
              "      <td>3.755500</td>\n",
              "    </tr>\n",
              "    <tr>\n",
              "      <th>std</th>\n",
              "      <td>204.133854</td>\n",
              "      <td>1443.718744</td>\n",
              "      <td>1.245662</td>\n",
              "    </tr>\n",
              "    <tr>\n",
              "      <th>min</th>\n",
              "      <td>1.000000</td>\n",
              "      <td>1.000000</td>\n",
              "      <td>0.000000</td>\n",
              "    </tr>\n",
              "    <tr>\n",
              "      <th>25%</th>\n",
              "      <td>162.000000</td>\n",
              "      <td>389.000000</td>\n",
              "      <td>3.000000</td>\n",
              "    </tr>\n",
              "    <tr>\n",
              "      <th>50%</th>\n",
              "      <td>367.000000</td>\n",
              "      <td>1396.500000</td>\n",
              "      <td>4.000000</td>\n",
              "    </tr>\n",
              "    <tr>\n",
              "      <th>75%</th>\n",
              "      <td>506.000000</td>\n",
              "      <td>2824.000000</td>\n",
              "      <td>5.000000</td>\n",
              "    </tr>\n",
              "    <tr>\n",
              "      <th>max</th>\n",
              "      <td>715.000000</td>\n",
              "      <td>4980.000000</td>\n",
              "      <td>5.000000</td>\n",
              "    </tr>\n",
              "  </tbody>\n",
              "</table>\n",
              "</div>\n",
              "      <button class=\"colab-df-convert\" onclick=\"convertToInteractive('df-c2947773-406e-4c55-96e9-3d437e6f69c9')\"\n",
              "              title=\"Convert this dataframe to an interactive table.\"\n",
              "              style=\"display:none;\">\n",
              "        \n",
              "  <svg xmlns=\"http://www.w3.org/2000/svg\" height=\"24px\"viewBox=\"0 0 24 24\"\n",
              "       width=\"24px\">\n",
              "    <path d=\"M0 0h24v24H0V0z\" fill=\"none\"/>\n",
              "    <path d=\"M18.56 5.44l.94 2.06.94-2.06 2.06-.94-2.06-.94-.94-2.06-.94 2.06-2.06.94zm-11 1L8.5 8.5l.94-2.06 2.06-.94-2.06-.94L8.5 2.5l-.94 2.06-2.06.94zm10 10l.94 2.06.94-2.06 2.06-.94-2.06-.94-.94-2.06-.94 2.06-2.06.94z\"/><path d=\"M17.41 7.96l-1.37-1.37c-.4-.4-.92-.59-1.43-.59-.52 0-1.04.2-1.43.59L10.3 9.45l-7.72 7.72c-.78.78-.78 2.05 0 2.83L4 21.41c.39.39.9.59 1.41.59.51 0 1.02-.2 1.41-.59l7.78-7.78 2.81-2.81c.8-.78.8-2.07 0-2.86zM5.41 20L4 18.59l7.72-7.72 1.47 1.35L5.41 20z\"/>\n",
              "  </svg>\n",
              "      </button>\n",
              "      \n",
              "  <style>\n",
              "    .colab-df-container {\n",
              "      display:flex;\n",
              "      flex-wrap:wrap;\n",
              "      gap: 12px;\n",
              "    }\n",
              "\n",
              "    .colab-df-convert {\n",
              "      background-color: #E8F0FE;\n",
              "      border: none;\n",
              "      border-radius: 50%;\n",
              "      cursor: pointer;\n",
              "      display: none;\n",
              "      fill: #1967D2;\n",
              "      height: 32px;\n",
              "      padding: 0 0 0 0;\n",
              "      width: 32px;\n",
              "    }\n",
              "\n",
              "    .colab-df-convert:hover {\n",
              "      background-color: #E2EBFA;\n",
              "      box-shadow: 0px 1px 2px rgba(60, 64, 67, 0.3), 0px 1px 3px 1px rgba(60, 64, 67, 0.15);\n",
              "      fill: #174EA6;\n",
              "    }\n",
              "\n",
              "    [theme=dark] .colab-df-convert {\n",
              "      background-color: #3B4455;\n",
              "      fill: #D2E3FC;\n",
              "    }\n",
              "\n",
              "    [theme=dark] .colab-df-convert:hover {\n",
              "      background-color: #434B5C;\n",
              "      box-shadow: 0px 1px 3px 1px rgba(0, 0, 0, 0.15);\n",
              "      filter: drop-shadow(0px 1px 2px rgba(0, 0, 0, 0.3));\n",
              "      fill: #FFFFFF;\n",
              "    }\n",
              "  </style>\n",
              "\n",
              "      <script>\n",
              "        const buttonEl =\n",
              "          document.querySelector('#df-c2947773-406e-4c55-96e9-3d437e6f69c9 button.colab-df-convert');\n",
              "        buttonEl.style.display =\n",
              "          google.colab.kernel.accessAllowed ? 'block' : 'none';\n",
              "\n",
              "        async function convertToInteractive(key) {\n",
              "          const element = document.querySelector('#df-c2947773-406e-4c55-96e9-3d437e6f69c9');\n",
              "          const dataTable =\n",
              "            await google.colab.kernel.invokeFunction('convertToInteractive',\n",
              "                                                     [key], {});\n",
              "          if (!dataTable) return;\n",
              "\n",
              "          const docLinkHtml = 'Like what you see? Visit the ' +\n",
              "            '<a target=\"_blank\" href=https://colab.research.google.com/notebooks/data_table.ipynb>data table notebook</a>'\n",
              "            + ' to learn more about interactive tables.';\n",
              "          element.innerHTML = '';\n",
              "          dataTable['output_type'] = 'display_data';\n",
              "          await google.colab.output.renderOutput(dataTable, element);\n",
              "          const docLink = document.createElement('div');\n",
              "          docLink.innerHTML = docLinkHtml;\n",
              "          element.appendChild(docLink);\n",
              "        }\n",
              "      </script>\n",
              "    </div>\n",
              "  </div>\n",
              "  "
            ]
          },
          "metadata": {},
          "execution_count": 6
        }
      ]
    },
    {
      "cell_type": "code",
      "source": [
        "df.info()"
      ],
      "metadata": {
        "id": "tmJfYRRgQuda",
        "outputId": "ec5b8110-551a-4554-8c11-e05d22ab3c92",
        "colab": {
          "base_uri": "https://localhost:8080/",
          "height": 0
        }
      },
      "id": "tmJfYRRgQuda",
      "execution_count": 7,
      "outputs": [
        {
          "output_type": "stream",
          "name": "stdout",
          "text": [
            "<class 'pandas.core.frame.DataFrame'>\n",
            "RangeIndex: 10000 entries, 0 to 9999\n",
            "Data columns (total 3 columns):\n",
            " #   Column   Non-Null Count  Dtype\n",
            "---  ------   --------------  -----\n",
            " 0   user_id  10000 non-null  int64\n",
            " 1   book_id  10000 non-null  int64\n",
            " 2   rating   10000 non-null  int64\n",
            "dtypes: int64(3)\n",
            "memory usage: 234.5 KB\n"
          ]
        }
      ]
    },
    {
      "cell_type": "code",
      "source": [
        "df.isnull().sum()"
      ],
      "metadata": {
        "colab": {
          "base_uri": "https://localhost:8080/",
          "height": 0
        },
        "id": "2R5bMW1aAo2S",
        "outputId": "25395ef5-d988-441f-f214-63c2056b83cb"
      },
      "id": "2R5bMW1aAo2S",
      "execution_count": 8,
      "outputs": [
        {
          "output_type": "execute_result",
          "data": {
            "text/plain": [
              "user_id    0\n",
              "book_id    0\n",
              "rating     0\n",
              "dtype: int64"
            ]
          },
          "metadata": {},
          "execution_count": 8
        }
      ]
    },
    {
      "cell_type": "code",
      "source": [
        "plt.figure(figsize=(12,8))\n",
        "sns.countplot(x='rating',data=df)\n",
        "plt.title('Rating Distribution',size=20)"
      ],
      "metadata": {
        "colab": {
          "base_uri": "https://localhost:8080/",
          "height": 535
        },
        "id": "ffo6MrtBDGKj",
        "outputId": "dda2d826-3301-476c-c566-cc806138a490"
      },
      "id": "ffo6MrtBDGKj",
      "execution_count": 10,
      "outputs": [
        {
          "output_type": "execute_result",
          "data": {
            "text/plain": [
              "Text(0.5, 1.0, 'Rating Distribution')"
            ]
          },
          "metadata": {},
          "execution_count": 10
        },
        {
          "output_type": "display_data",
          "data": {
            "text/plain": [
              "<Figure size 864x576 with 1 Axes>"
            ],
            "image/png": "[encoded data removed]"
          },
          "metadata": {
            "needs_background": "light"
          }
        }
      ]
    },
    {
      "cell_type": "markdown",
      "source": [
        "# Bag of Words Approach"
      ],
      "metadata": {
        "id": "PcaB09VTQXZk"
      },
      "id": "PcaB09VTQXZk"
    },
    {
      "cell_type": "code",
      "execution_count": null,
      "metadata": {
        "id": "4de0dcd4"
      },
      "outputs": [],
      "source": [
        "wordCount = defaultdict(int)\n",
        "punctuation = set(string.punctuation)\n",
        "\n",
        "for d in dataset:\n",
        "    r = ''.join([c for c in d['review_text'].lower() if not c in punctuation])\n",
        "    for w in r.split():\n",
        "        wordCount[w] += 1\n",
        "\n",
        "sorted_counts = sorted(wordCount.items(), key=lambda x:x[1])[::-1]\n",
        "\n",
        "counts = [(i[1], i[0]) for i in sorted_counts]\n",
        "\n",
        "words = [x[1] for x in counts[:1000]]\n",
        "wordId = dict(zip(words, range(len(words))))\n",
        "wordSet = set(words)"
      ],
      "id": "4de0dcd4"
    },
    {
      "cell_type": "code",
      "execution_count": null,
      "metadata": {
        "id": "3c6a01ff"
      },
      "outputs": [],
      "source": [
        "def feature(datum):\n",
        "    feat = [0]*len(words)    \n",
        "    # removing punctuation from review\n",
        "    r = ''.join([c for c in datum['review_text'].lower() if not c in punctuation])    \n",
        "    # adding word counts to feature\n",
        "    for w in r.split():\n",
        "        if w in words:\n",
        "            feat[wordId[w]] += 1\n",
        "    feat.append(1)\n",
        "    return feat\n",
        "def accuracy(y, predictions):\n",
        "    correct = predictions == y \n",
        "    acc = sum(correct) / len(correct)\n",
        "    return acc"
      ],
      "id": "3c6a01ff"
    },
    {
      "cell_type": "code",
      "execution_count": null,
      "metadata": {
        "id": "f1c12d61"
      },
      "outputs": [],
      "source": [
        "X = [feature(d) for d in dataset]\n",
        "y = [d['rating'] for d in dataset]\n",
        "\n",
        "Xtrain = X[:9*len(X)//10]\n",
        "ytrain = y[:9*len(y)//10]\n",
        "Xtest = X[9*len(X)//10:]\n",
        "ytest = y[9*len(y)//10:]"
      ],
      "id": "f1c12d61"
    },
    {
      "cell_type": "code",
      "execution_count": null,
      "metadata": {
        "id": "4f870c47"
      },
      "outputs": [],
      "source": [
        "# Training a model for Logistic Regression\n",
        "mod = linear_model.LogisticRegression(C=1)\n",
        "mod.fit(Xtrain,ytrain)\n",
        "predictions = mod.predict(Xtest)\n",
        "acc = accuracy(ytest, predictions)"
      ],
      "id": "4f870c47"
    },
    {
      "cell_type": "code",
      "source": [
        "print('The accuracy for Logistic Regression for Bag of Words approach - \\n', acc*100, '%')"
      ],
      "metadata": {
        "colab": {
          "base_uri": "https://localhost:8080/"
        },
        "id": "mjIN5BqhMQeW",
        "outputId": "5c19cc0c-bd22-4ef6-cc84-e0ee30f9128b"
      },
      "id": "mjIN5BqhMQeW",
      "execution_count": null,
      "outputs": [
        {
          "output_type": "stream",
          "name": "stdout",
          "text": [
            "The accuracy for Logistic Regression for Bag of Words approach - \n",
            " 45.5 %\n"
          ]
        }
      ]
    },
    {
      "cell_type": "code",
      "source": [
        "# Training a model for Linear Regression\n",
        "mod1 = linear_model.LinearRegression()\n",
        "mod1.fit(Xtrain,ytrain)\n",
        "predictions1 = mod1.predict(Xtest)\n",
        "mse1 = mean_squared_error(predictions1, ytest)\n",
        "mape_1 = mean_absolute_percentage_error(predictions1, ytest)*100"
      ],
      "metadata": {
        "id": "tAJ7f64Oa_bP"
      },
      "id": "tAJ7f64Oa_bP",
      "execution_count": null,
      "outputs": []
    },
    {
      "cell_type": "code",
      "source": [
        "print('The Mean Squared Error of LInear Regression for Bag of Words approach - \\n', mse1, '\\n')\n",
        "print('The Mean absolute percentage error of Linear Regression for Bag of Words approach - \\n', mape_1)"
      ],
      "metadata": {
        "colab": {
          "base_uri": "https://localhost:8080/"
        },
        "id": "n3bcR8AXbxK5",
        "outputId": "7a13c69d-cd38-4d71-8bc0-0c73679b41fe"
      },
      "id": "n3bcR8AXbxK5",
      "execution_count": null,
      "outputs": [
        {
          "output_type": "stream",
          "name": "stdout",
          "text": [
            "The Mean Squared Error of LInear Regression for Bag of Words approach - \n",
            " 1.5754416572189098 \n",
            "\n",
            "The Mean absolute percentage error of Linear Regression for Bag of Words approach - \n",
            " 36.60850676472431\n"
          ]
        }
      ]
    },
    {
      "cell_type": "markdown",
      "source": [
        "# Final Approach - Jaccard Similarity"
      ],
      "metadata": {
        "id": "eLvWbQcWO1Gi"
      },
      "id": "eLvWbQcWO1Gi"
    },
    {
      "cell_type": "code",
      "execution_count": null,
      "metadata": {
        "id": "d82e8ca6"
      },
      "outputs": [],
      "source": [
        "usersPerItem = defaultdict(set) # Maps an item to the users who rated it\n",
        "itemsPerUser = defaultdict(set) # Maps a user to the items that they rated\n",
        "reviewsPerUser = defaultdict(list)\n",
        "reviewsPerItem = defaultdict(list)\n",
        "ratingDict = {} # To retrieve a rating for a specific user/item pair\n",
        "\n",
        "for d in dataTrain:\n",
        "    user,item = d['user_id'], d['book_id']\n",
        "    usersPerItem[item].add(user)\n",
        "    itemsPerUser[user].add(item)\n",
        "    ratingDict[(user,item)] = d['rating']"
      ],
      "id": "d82e8ca6"
    },
    {
      "cell_type": "code",
      "execution_count": null,
      "metadata": {
        "id": "c1fe4d49"
      },
      "outputs": [],
      "source": [
        "userAverages = {}\n",
        "itemAverages = {}\n",
        "\n",
        "for u in itemsPerUser:\n",
        "    rs = [ratingDict[(u,i)] for i in itemsPerUser[u]]\n",
        "    userAverages[u] = sum(rs) / len(rs)\n",
        "    \n",
        "for i in usersPerItem:\n",
        "    rs = [ratingDict[(u,i)] for u in usersPerItem[i]]\n",
        "    itemAverages[i] = sum(rs) / len(rs)\n",
        "    \n",
        "for d in dataTrain:\n",
        "    user,item = d['user_id'], d['book_id']\n",
        "    reviewsPerUser[user].append(d)\n",
        "    reviewsPerItem[item].append(d)\n"
      ],
      "id": "c1fe4d49"
    },
    {
      "cell_type": "code",
      "execution_count": null,
      "metadata": {
        "id": "8c7ceb2a"
      },
      "outputs": [],
      "source": [
        "# From the pseudo code for jaccard similarity\n",
        "def Jaccard(s1, s2):\n",
        "    numer = len(s1.intersection(s2))\n",
        "    denom = len(s1.union(s2))\n",
        "    if denom == 0:\n",
        "        return 0\n",
        "    return numer / denom\n",
        "    \n",
        "def predictRating(user,item):\n",
        "    ratings = []\n",
        "    similarities = []\n",
        "    for d in reviewsPerUser[user]:\n",
        "        i2 = d['book_id']\n",
        "        if i2 == item: continue\n",
        "        ratings.append(d['rating'] - itemAverages[i2])\n",
        "        similarities.append(Jaccard(usersPerItem[item],usersPerItem[i2]))\n",
        "    if (sum(similarities) > 0):\n",
        "        weightedRatings = [(x*y) for x,y in zip(ratings,similarities)]\n",
        "        return itemAverages[item] + sum(weightedRatings) / sum(similarities)\n",
        "    else:\n",
        "        # User hasn't rated any similar items\n",
        "        ratingMean = sum([d['rating'] for d in dataTrain]) / len(dataTrain)\n",
        "        return ratingMean\n",
        "    "
      ],
      "id": "8c7ceb2a"
    },
    {
      "cell_type": "code",
      "execution_count": null,
      "metadata": {
        "id": "4edfb565"
      },
      "outputs": [],
      "source": [
        "predictions2 = [predictRating(d['user_id'], d['book_id']) for d in dataTest]\n",
        "labels = [d['rating'] for d in dataTest]\n",
        "mse2 = mean_squared_error(predictions2, labels)\n",
        "mape_2 = mean_absolute_percentage_error(predictions2, labels)*100"
      ],
      "id": "4edfb565"
    },
    {
      "cell_type": "code",
      "execution_count": null,
      "metadata": {
        "id": "5d1a38f0",
        "colab": {
          "base_uri": "https://localhost:8080/"
        },
        "outputId": "7c38f568-72a9-4058-abc6-94c83aa304e4"
      },
      "outputs": [
        {
          "output_type": "stream",
          "name": "stdout",
          "text": [
            "The Mean Squared Error for Jaccard Similarities - \n",
            " 1.8375712166843186 \n",
            "\n",
            "The Mean absolute percentage error for Jaccard Similarities - \n",
            " 31.011538168802392\n"
          ]
        }
      ],
      "source": [
        "print('The Mean Squared Error for Jaccard Similarities - \\n', mse2, '\\n')\n",
        "print('The Mean absolute percentage error for Jaccard Similarities - \\n', mape_2)"
      ],
      "id": "5d1a38f0"
    }
  ],
  "metadata": {
    "kernelspec": {
      "display_name": "Python 3 (ipykernel)",
      "language": "python",
      "name": "python3"
    },
    "language_info": {
      "codemirror_mode": {
        "name": "ipython",
        "version": 3
      },
      "file_extension": ".py",
      "mimetype": "text/x-python",
      "name": "python",
      "nbconvert_exporter": "python",
      "pygments_lexer": "ipython3",
      "version": "3.9.7"
    },
    "colab": {
      "provenance": []
    }
  },
  "nbformat": 4,
  "nbformat_minor": 5
}